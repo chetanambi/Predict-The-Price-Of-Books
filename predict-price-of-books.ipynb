{
 "cells": [
  {
   "cell_type": "markdown",
   "metadata": {},
   "source": [
    "# Import libraries"
   ]
  },
  {
   "cell_type": "code",
   "execution_count": 1,
   "metadata": {},
   "outputs": [],
   "source": [
    "import re\n",
    "import nltk\n",
    "import seaborn as sns\n",
    "import pandas as pd\n",
    "import numpy as np\n",
    "import matplotlib.pyplot as plt\n",
    "import warnings\n",
    "warnings.filterwarnings('ignore')\n",
    "\n",
    "from nltk.corpus import stopwords\n",
    "stopwords = stopwords.words('english')"
   ]
  },
  {
   "cell_type": "markdown",
   "metadata": {},
   "source": [
    "# Import datasets"
   ]
  },
  {
   "cell_type": "code",
   "execution_count": 2,
   "metadata": {},
   "outputs": [],
   "source": [
    "train = pd.read_excel('/kaggle/input/Data_Train.xlsx')\n",
    "test = pd.read_excel('/kaggle/input/Data_Test.xlsx')"
   ]
  },
  {
   "cell_type": "code",
   "execution_count": 3,
   "metadata": {},
   "outputs": [
    {
     "data": {
      "text/plain": [
       "((6237, 9), (1560, 8))"
      ]
     },
     "execution_count": 3,
     "metadata": {},
     "output_type": "execute_result"
    }
   ],
   "source": [
    "train.shape, test.shape"
   ]
  },
  {
   "cell_type": "markdown",
   "metadata": {},
   "source": [
    "# Data exploration"
   ]
  },
  {
   "cell_type": "code",
   "execution_count": 4,
   "metadata": {},
   "outputs": [
    {
     "data": {
      "text/plain": [
       "(0, 8)"
      ]
     },
     "execution_count": 4,
     "metadata": {},
     "output_type": "execute_result"
    }
   ],
   "source": [
    "train.duplicated().sum(), test.duplicated().sum()"
   ]
  },
  {
   "cell_type": "code",
   "execution_count": 5,
   "metadata": {},
   "outputs": [
    {
     "data": {
      "text/html": [
       "<div>\n",
       "<style scoped>\n",
       "    .dataframe tbody tr th:only-of-type {\n",
       "        vertical-align: middle;\n",
       "    }\n",
       "\n",
       "    .dataframe tbody tr th {\n",
       "        vertical-align: top;\n",
       "    }\n",
       "\n",
       "    .dataframe thead th {\n",
       "        text-align: right;\n",
       "    }\n",
       "</style>\n",
       "<table border=\"1\" class=\"dataframe\">\n",
       "  <thead>\n",
       "    <tr style=\"text-align: right;\">\n",
       "      <th></th>\n",
       "      <th>Title</th>\n",
       "      <th>Author</th>\n",
       "      <th>Edition</th>\n",
       "      <th>Reviews</th>\n",
       "      <th>Ratings</th>\n",
       "      <th>Synopsis</th>\n",
       "      <th>Genre</th>\n",
       "      <th>BookCategory</th>\n",
       "      <th>Price</th>\n",
       "    </tr>\n",
       "  </thead>\n",
       "  <tbody>\n",
       "    <tr>\n",
       "      <td>0</td>\n",
       "      <td>The Prisoner's Gold (The Hunters 3)</td>\n",
       "      <td>Chris Kuzneski</td>\n",
       "      <td>Paperback,– 10 Mar 2016</td>\n",
       "      <td>4.0 out of 5 stars</td>\n",
       "      <td>8 customer reviews</td>\n",
       "      <td>THE HUNTERS return in their third brilliant no...</td>\n",
       "      <td>Action &amp; Adventure (Books)</td>\n",
       "      <td>Action &amp; Adventure</td>\n",
       "      <td>220.00</td>\n",
       "    </tr>\n",
       "    <tr>\n",
       "      <td>1</td>\n",
       "      <td>Guru Dutt: A Tragedy in Three Acts</td>\n",
       "      <td>Arun Khopkar</td>\n",
       "      <td>Paperback,– 7 Nov 2012</td>\n",
       "      <td>3.9 out of 5 stars</td>\n",
       "      <td>14 customer reviews</td>\n",
       "      <td>A layered portrait of a troubled genius for wh...</td>\n",
       "      <td>Cinema &amp; Broadcast (Books)</td>\n",
       "      <td>Biographies, Diaries &amp; True Accounts</td>\n",
       "      <td>202.93</td>\n",
       "    </tr>\n",
       "    <tr>\n",
       "      <td>2</td>\n",
       "      <td>Leviathan (Penguin Classics)</td>\n",
       "      <td>Thomas Hobbes</td>\n",
       "      <td>Paperback,– 25 Feb 1982</td>\n",
       "      <td>4.8 out of 5 stars</td>\n",
       "      <td>6 customer reviews</td>\n",
       "      <td>\"During the time men live without a common Pow...</td>\n",
       "      <td>International Relations</td>\n",
       "      <td>Humour</td>\n",
       "      <td>299.00</td>\n",
       "    </tr>\n",
       "    <tr>\n",
       "      <td>3</td>\n",
       "      <td>A Pocket Full of Rye (Miss Marple)</td>\n",
       "      <td>Agatha Christie</td>\n",
       "      <td>Paperback,– 5 Oct 2017</td>\n",
       "      <td>4.1 out of 5 stars</td>\n",
       "      <td>13 customer reviews</td>\n",
       "      <td>A handful of grain is found in the pocket of a...</td>\n",
       "      <td>Contemporary Fiction (Books)</td>\n",
       "      <td>Crime, Thriller &amp; Mystery</td>\n",
       "      <td>180.00</td>\n",
       "    </tr>\n",
       "    <tr>\n",
       "      <td>4</td>\n",
       "      <td>LIFE 70 Years of Extraordinary Photography</td>\n",
       "      <td>Editors of Life</td>\n",
       "      <td>Hardcover,– 10 Oct 2006</td>\n",
       "      <td>5.0 out of 5 stars</td>\n",
       "      <td>1 customer review</td>\n",
       "      <td>For seven decades, \"Life\" has been thrilling t...</td>\n",
       "      <td>Photography Textbooks</td>\n",
       "      <td>Arts, Film &amp; Photography</td>\n",
       "      <td>965.62</td>\n",
       "    </tr>\n",
       "  </tbody>\n",
       "</table>\n",
       "</div>"
      ],
      "text/plain": [
       "                                        Title           Author  \\\n",
       "0         The Prisoner's Gold (The Hunters 3)   Chris Kuzneski   \n",
       "1          Guru Dutt: A Tragedy in Three Acts     Arun Khopkar   \n",
       "2                Leviathan (Penguin Classics)    Thomas Hobbes   \n",
       "3          A Pocket Full of Rye (Miss Marple)  Agatha Christie   \n",
       "4  LIFE 70 Years of Extraordinary Photography  Editors of Life   \n",
       "\n",
       "                   Edition             Reviews              Ratings  \\\n",
       "0  Paperback,– 10 Mar 2016  4.0 out of 5 stars   8 customer reviews   \n",
       "1   Paperback,– 7 Nov 2012  3.9 out of 5 stars  14 customer reviews   \n",
       "2  Paperback,– 25 Feb 1982  4.8 out of 5 stars   6 customer reviews   \n",
       "3   Paperback,– 5 Oct 2017  4.1 out of 5 stars  13 customer reviews   \n",
       "4  Hardcover,– 10 Oct 2006  5.0 out of 5 stars    1 customer review   \n",
       "\n",
       "                                            Synopsis  \\\n",
       "0  THE HUNTERS return in their third brilliant no...   \n",
       "1  A layered portrait of a troubled genius for wh...   \n",
       "2  \"During the time men live without a common Pow...   \n",
       "3  A handful of grain is found in the pocket of a...   \n",
       "4  For seven decades, \"Life\" has been thrilling t...   \n",
       "\n",
       "                          Genre                          BookCategory   Price  \n",
       "0    Action & Adventure (Books)                    Action & Adventure  220.00  \n",
       "1    Cinema & Broadcast (Books)  Biographies, Diaries & True Accounts  202.93  \n",
       "2       International Relations                                Humour  299.00  \n",
       "3  Contemporary Fiction (Books)             Crime, Thriller & Mystery  180.00  \n",
       "4         Photography Textbooks              Arts, Film & Photography  965.62  "
      ]
     },
     "execution_count": 5,
     "metadata": {},
     "output_type": "execute_result"
    }
   ],
   "source": [
    "train.head()"
   ]
  },
  {
   "cell_type": "code",
   "execution_count": 6,
   "metadata": {},
   "outputs": [
    {
     "name": "stdout",
     "output_type": "stream",
     "text": [
      "<class 'pandas.core.frame.DataFrame'>\n",
      "RangeIndex: 6237 entries, 0 to 6236\n",
      "Data columns (total 9 columns):\n",
      "Title           6237 non-null object\n",
      "Author          6237 non-null object\n",
      "Edition         6237 non-null object\n",
      "Reviews         6237 non-null object\n",
      "Ratings         6237 non-null object\n",
      "Synopsis        6237 non-null object\n",
      "Genre           6237 non-null object\n",
      "BookCategory    6237 non-null object\n",
      "Price           6237 non-null float64\n",
      "dtypes: float64(1), object(8)\n",
      "memory usage: 438.7+ KB\n"
     ]
    }
   ],
   "source": [
    "train.info()"
   ]
  },
  {
   "cell_type": "code",
   "execution_count": 7,
   "metadata": {},
   "outputs": [
    {
     "data": {
      "text/plain": [
       "Title           5568\n",
       "Author          3679\n",
       "Edition         3370\n",
       "Reviews           36\n",
       "Ratings          342\n",
       "Synopsis        5549\n",
       "Genre            345\n",
       "BookCategory      11\n",
       "Price           1614\n",
       "dtype: int64"
      ]
     },
     "execution_count": 7,
     "metadata": {},
     "output_type": "execute_result"
    }
   ],
   "source": [
    "train.nunique()"
   ]
  },
  {
   "cell_type": "code",
   "execution_count": 8,
   "metadata": {},
   "outputs": [
    {
     "data": {
      "text/plain": [
       "<matplotlib.axes._subplots.AxesSubplot at 0x7fc152235390>"
      ]
     },
     "execution_count": 8,
     "metadata": {},
     "output_type": "execute_result"
    },
    {
     "data": {
      "image/png": "[encoded data removed]",
      "text/plain": [
       "<Figure size 720x432 with 1 Axes>"
      ]
     },
     "metadata": {
      "needs_background": "light"
     },
     "output_type": "display_data"
    }
   ],
   "source": [
    "plt.figure(figsize=(10,6))\n",
    "sns.distplot(np.log1p(train['Price']))"
   ]
  },
  {
   "cell_type": "markdown",
   "metadata": {},
   "source": [
    "# Data pre-processing"
   ]
  },
  {
   "cell_type": "code",
   "execution_count": 9,
   "metadata": {},
   "outputs": [],
   "source": [
    "train = train[train['Price'] < 10000].reset_index(drop=True)"
   ]
  },
  {
   "cell_type": "code",
   "execution_count": 10,
   "metadata": {},
   "outputs": [
    {
     "data": {
      "text/plain": [
       "(7794, 9)"
      ]
     },
     "execution_count": 10,
     "metadata": {},
     "output_type": "execute_result"
    }
   ],
   "source": [
    "df = train.append(test,ignore_index=True)\n",
    "df.shape"
   ]
  },
  {
   "cell_type": "code",
   "execution_count": 11,
   "metadata": {},
   "outputs": [],
   "source": [
    "df.columns = ['Author', 'BookCategory', 'Edition', 'Genre', 'Price', 'Reviews', 'Ratings', 'Synopsis', 'Title']"
   ]
  },
  {
   "cell_type": "code",
   "execution_count": 12,
   "metadata": {},
   "outputs": [
    {
     "data": {
      "text/plain": [
       "(7794, 9)"
      ]
     },
     "execution_count": 12,
     "metadata": {},
     "output_type": "execute_result"
    }
   ],
   "source": [
    "df.shape"
   ]
  },
  {
   "cell_type": "code",
   "execution_count": 13,
   "metadata": {},
   "outputs": [
    {
     "data": {
      "text/html": [
       "<div>\n",
       "<style scoped>\n",
       "    .dataframe tbody tr th:only-of-type {\n",
       "        vertical-align: middle;\n",
       "    }\n",
       "\n",
       "    .dataframe tbody tr th {\n",
       "        vertical-align: top;\n",
       "    }\n",
       "\n",
       "    .dataframe thead th {\n",
       "        text-align: right;\n",
       "    }\n",
       "</style>\n",
       "<table border=\"1\" class=\"dataframe\">\n",
       "  <thead>\n",
       "    <tr style=\"text-align: right;\">\n",
       "      <th></th>\n",
       "      <th>Author</th>\n",
       "      <th>BookCategory</th>\n",
       "      <th>Edition</th>\n",
       "      <th>Genre</th>\n",
       "      <th>Price</th>\n",
       "      <th>Reviews</th>\n",
       "      <th>Ratings</th>\n",
       "      <th>Synopsis</th>\n",
       "      <th>Title</th>\n",
       "    </tr>\n",
       "  </thead>\n",
       "  <tbody>\n",
       "    <tr>\n",
       "      <td>0</td>\n",
       "      <td>Chris Kuzneski</td>\n",
       "      <td>Action &amp; Adventure</td>\n",
       "      <td>Paperback,– 10 Mar 2016</td>\n",
       "      <td>Action &amp; Adventure (Books)</td>\n",
       "      <td>220.00</td>\n",
       "      <td>8 customer reviews</td>\n",
       "      <td>4.0 out of 5 stars</td>\n",
       "      <td>THE HUNTERS return in their third brilliant no...</td>\n",
       "      <td>The Prisoner's Gold (The Hunters 3)</td>\n",
       "    </tr>\n",
       "    <tr>\n",
       "      <td>1</td>\n",
       "      <td>Arun Khopkar</td>\n",
       "      <td>Biographies, Diaries &amp; True Accounts</td>\n",
       "      <td>Paperback,– 7 Nov 2012</td>\n",
       "      <td>Cinema &amp; Broadcast (Books)</td>\n",
       "      <td>202.93</td>\n",
       "      <td>14 customer reviews</td>\n",
       "      <td>3.9 out of 5 stars</td>\n",
       "      <td>A layered portrait of a troubled genius for wh...</td>\n",
       "      <td>Guru Dutt: A Tragedy in Three Acts</td>\n",
       "    </tr>\n",
       "  </tbody>\n",
       "</table>\n",
       "</div>"
      ],
      "text/plain": [
       "           Author                          BookCategory  \\\n",
       "0  Chris Kuzneski                    Action & Adventure   \n",
       "1    Arun Khopkar  Biographies, Diaries & True Accounts   \n",
       "\n",
       "                   Edition                       Genre   Price  \\\n",
       "0  Paperback,– 10 Mar 2016  Action & Adventure (Books)  220.00   \n",
       "1   Paperback,– 7 Nov 2012  Cinema & Broadcast (Books)  202.93   \n",
       "\n",
       "               Reviews             Ratings  \\\n",
       "0   8 customer reviews  4.0 out of 5 stars   \n",
       "1  14 customer reviews  3.9 out of 5 stars   \n",
       "\n",
       "                                            Synopsis  \\\n",
       "0  THE HUNTERS return in their third brilliant no...   \n",
       "1  A layered portrait of a troubled genius for wh...   \n",
       "\n",
       "                                 Title  \n",
       "0  The Prisoner's Gold (The Hunters 3)  \n",
       "1   Guru Dutt: A Tragedy in Three Acts  "
      ]
     },
     "execution_count": 13,
     "metadata": {},
     "output_type": "execute_result"
    }
   ],
   "source": [
    "df.head(2)"
   ]
  },
  {
   "cell_type": "code",
   "execution_count": 14,
   "metadata": {},
   "outputs": [],
   "source": [
    "df['Title_1'] = df['Title'].str.extract(r\"\\((.*?)\\)\", expand=False) \n",
    "df['Title_1'] = df['Title_1'].fillna('missingTitle') \n",
    "df['Genre'] = df['Genre'].str.replace(r\"\\(.*\\)\",\"\")\n",
    "df['Reviews'] = df['Reviews'].str.replace(',','')\n",
    "df['Reviews'] = df['Reviews'].str.split().str.get(0).astype(float)\n",
    "df['Ratings'] = df['Ratings'].str.split().str.get(0).astype(float)\n",
    "df['BookCategory_1'] = df['BookCategory'].str.split(',').str[0]\n",
    "df['BookCategory_2'] = df['BookCategory'].str.split(',').str[1]\n",
    "df['BookCategory_2'] = df['BookCategory_2'].fillna('missingBookCategory') "
   ]
  },
  {
   "cell_type": "code",
   "execution_count": 15,
   "metadata": {},
   "outputs": [],
   "source": [
    "df['Edition_1'] = df['Edition'].str.split(',').str[0]\n",
    "df['Edition_2'] = df['Edition'].str.split(',').str[1]\n",
    "df['Edition_2'] = df['Edition_2'].str.replace('– ','')\n",
    "df['Edition_year'] = pd.to_datetime(df['Edition_2'], errors='coerce').dt.year\n",
    "df['Edition_month'] = pd.to_datetime(df['Edition_2'], errors='coerce').dt.month\n",
    "df['Edition_date'] = pd.to_datetime(df['Edition_2'], errors='coerce').dt.day"
   ]
  },
  {
   "cell_type": "code",
   "execution_count": 16,
   "metadata": {},
   "outputs": [
    {
     "data": {
      "text/plain": [
       "Author               0\n",
       "BookCategory         0\n",
       "Edition              0\n",
       "Genre                0\n",
       "Price             1560\n",
       "Reviews              0\n",
       "Ratings              0\n",
       "Synopsis             0\n",
       "Title                0\n",
       "Title_1              0\n",
       "BookCategory_1       0\n",
       "BookCategory_2       0\n",
       "Edition_1            0\n",
       "Edition_2            0\n",
       "Edition_year       992\n",
       "Edition_month      992\n",
       "Edition_date       992\n",
       "dtype: int64"
      ]
     },
     "execution_count": 16,
     "metadata": {},
     "output_type": "execute_result"
    }
   ],
   "source": [
    "df.isnull().sum()"
   ]
  },
  {
   "cell_type": "code",
   "execution_count": 17,
   "metadata": {},
   "outputs": [
    {
     "data": {
      "text/html": [
       "<div>\n",
       "<style scoped>\n",
       "    .dataframe tbody tr th:only-of-type {\n",
       "        vertical-align: middle;\n",
       "    }\n",
       "\n",
       "    .dataframe tbody tr th {\n",
       "        vertical-align: top;\n",
       "    }\n",
       "\n",
       "    .dataframe thead th {\n",
       "        text-align: right;\n",
       "    }\n",
       "</style>\n",
       "<table border=\"1\" class=\"dataframe\">\n",
       "  <thead>\n",
       "    <tr style=\"text-align: right;\">\n",
       "      <th></th>\n",
       "      <th>Author</th>\n",
       "      <th>BookCategory</th>\n",
       "      <th>Edition</th>\n",
       "      <th>Genre</th>\n",
       "      <th>Price</th>\n",
       "      <th>Reviews</th>\n",
       "      <th>Ratings</th>\n",
       "      <th>Synopsis</th>\n",
       "      <th>Title</th>\n",
       "      <th>Title_1</th>\n",
       "      <th>BookCategory_1</th>\n",
       "      <th>BookCategory_2</th>\n",
       "      <th>Edition_1</th>\n",
       "      <th>Edition_2</th>\n",
       "      <th>Edition_year</th>\n",
       "      <th>Edition_month</th>\n",
       "      <th>Edition_date</th>\n",
       "    </tr>\n",
       "  </thead>\n",
       "  <tbody>\n",
       "    <tr>\n",
       "      <td>0</td>\n",
       "      <td>Chris Kuzneski</td>\n",
       "      <td>Action &amp; Adventure</td>\n",
       "      <td>Paperback,– 10 Mar 2016</td>\n",
       "      <td>Action &amp; Adventure</td>\n",
       "      <td>220.00</td>\n",
       "      <td>8.0</td>\n",
       "      <td>4.0</td>\n",
       "      <td>THE HUNTERS return in their third brilliant no...</td>\n",
       "      <td>The Prisoner's Gold (The Hunters 3)</td>\n",
       "      <td>The Hunters 3</td>\n",
       "      <td>Action &amp; Adventure</td>\n",
       "      <td>missingBookCategory</td>\n",
       "      <td>Paperback</td>\n",
       "      <td>10 Mar 2016</td>\n",
       "      <td>2016.0</td>\n",
       "      <td>3.0</td>\n",
       "      <td>10.0</td>\n",
       "    </tr>\n",
       "    <tr>\n",
       "      <td>1</td>\n",
       "      <td>Arun Khopkar</td>\n",
       "      <td>Biographies, Diaries &amp; True Accounts</td>\n",
       "      <td>Paperback,– 7 Nov 2012</td>\n",
       "      <td>Cinema &amp; Broadcast</td>\n",
       "      <td>202.93</td>\n",
       "      <td>14.0</td>\n",
       "      <td>3.9</td>\n",
       "      <td>A layered portrait of a troubled genius for wh...</td>\n",
       "      <td>Guru Dutt: A Tragedy in Three Acts</td>\n",
       "      <td>missingTitle</td>\n",
       "      <td>Biographies</td>\n",
       "      <td>Diaries &amp; True Accounts</td>\n",
       "      <td>Paperback</td>\n",
       "      <td>7 Nov 2012</td>\n",
       "      <td>2012.0</td>\n",
       "      <td>11.0</td>\n",
       "      <td>7.0</td>\n",
       "    </tr>\n",
       "  </tbody>\n",
       "</table>\n",
       "</div>"
      ],
      "text/plain": [
       "           Author                          BookCategory  \\\n",
       "0  Chris Kuzneski                    Action & Adventure   \n",
       "1    Arun Khopkar  Biographies, Diaries & True Accounts   \n",
       "\n",
       "                   Edition                Genre   Price  Reviews  Ratings  \\\n",
       "0  Paperback,– 10 Mar 2016  Action & Adventure   220.00      8.0      4.0   \n",
       "1   Paperback,– 7 Nov 2012  Cinema & Broadcast   202.93     14.0      3.9   \n",
       "\n",
       "                                            Synopsis  \\\n",
       "0  THE HUNTERS return in their third brilliant no...   \n",
       "1  A layered portrait of a troubled genius for wh...   \n",
       "\n",
       "                                 Title        Title_1      BookCategory_1  \\\n",
       "0  The Prisoner's Gold (The Hunters 3)  The Hunters 3  Action & Adventure   \n",
       "1   Guru Dutt: A Tragedy in Three Acts   missingTitle         Biographies   \n",
       "\n",
       "             BookCategory_2  Edition_1    Edition_2  Edition_year  \\\n",
       "0       missingBookCategory  Paperback  10 Mar 2016        2016.0   \n",
       "1   Diaries & True Accounts  Paperback   7 Nov 2012        2012.0   \n",
       "\n",
       "   Edition_month  Edition_date  \n",
       "0            3.0          10.0  \n",
       "1           11.0           7.0  "
      ]
     },
     "execution_count": 17,
     "metadata": {},
     "output_type": "execute_result"
    }
   ],
   "source": [
    "df.head(2)"
   ]
  },
  {
   "cell_type": "code",
   "execution_count": 18,
   "metadata": {},
   "outputs": [],
   "source": [
    "agg_func = {\n",
    "    'Reviews': ['mean','median','min','max','sum'],\n",
    "    'Ratings': ['mean','median','min','max','sum']\n",
    "}\n",
    "agg_BookCategory_1 = df.groupby('BookCategory_1').agg(agg_func)\n",
    "agg_BookCategory_1.columns = [ 'BookCategory_1_' + ('_'.join(col).strip()) for col in agg_BookCategory_1.columns.values]\n",
    "agg_BookCategory_1.reset_index(inplace=True)\n",
    "df = df.merge(agg_BookCategory_1, on=['BookCategory_1'], how='left')"
   ]
  },
  {
   "cell_type": "code",
   "execution_count": 19,
   "metadata": {},
   "outputs": [],
   "source": [
    "agg_func = {\n",
    "    'Reviews': ['mean','median','min','max','sum'],\n",
    "    'Ratings': ['mean','median','min','max','sum']\n",
    "    \n",
    "}\n",
    "agg_BookCategory_2 = df.groupby('BookCategory_2').agg(agg_func)\n",
    "agg_BookCategory_2.columns = [ 'BookCategory_2_' + ('_'.join(col).strip()) for col in agg_BookCategory_2.columns.values]\n",
    "agg_BookCategory_2.reset_index(inplace=True)\n",
    "df = df.merge(agg_BookCategory_2, on=['BookCategory_2'], how='left')"
   ]
  },
  {
   "cell_type": "code",
   "execution_count": 20,
   "metadata": {},
   "outputs": [],
   "source": [
    "agg_func = {\n",
    "    'Reviews': ['mean','median','min','max','sum'],\n",
    "    'Ratings': ['mean','median','min','max','sum']\n",
    "}\n",
    "agg_Author = df.groupby('Author').agg(agg_func)\n",
    "agg_Author.columns = [ 'Author_' + ('_'.join(col).strip()) for col in agg_Author.columns.values]\n",
    "agg_Author.reset_index(inplace=True)\n",
    "df = df.merge(agg_Author, on=['Author'], how='left')"
   ]
  },
  {
   "cell_type": "code",
   "execution_count": 21,
   "metadata": {},
   "outputs": [],
   "source": [
    "agg_func = {\n",
    "    'Reviews': ['mean','median','min','max','sum'],\n",
    "    'Ratings': ['mean','median','min','max','sum']\n",
    "}\n",
    "agg_Genre = df.groupby('Genre').agg(agg_func)\n",
    "agg_Genre.columns = [ 'Genre_' + ('_'.join(col).strip()) for col in agg_Genre.columns.values]\n",
    "agg_Genre.reset_index(inplace=True)\n",
    "df = df.merge(agg_Genre, on=['Genre'], how='left')"
   ]
  },
  {
   "cell_type": "code",
   "execution_count": 22,
   "metadata": {},
   "outputs": [],
   "source": [
    "agg_func = {\n",
    "    'Reviews': ['mean','median','min','max','sum'],\n",
    "    'Ratings': ['mean','median','min','max','sum']\n",
    "}\n",
    "agg_Title = df.groupby('Title').agg(agg_func)\n",
    "agg_Title.columns = [ 'Title_' + ('_'.join(col).strip()) for col in agg_Title.columns.values]\n",
    "agg_Title.reset_index(inplace=True)\n",
    "df = df.merge(agg_Title, on=['Title'], how='left')"
   ]
  },
  {
   "cell_type": "code",
   "execution_count": 23,
   "metadata": {},
   "outputs": [],
   "source": [
    "calc = df.groupby(['Title'], axis=0).agg({'Title':[('op1', 'count')]}).reset_index() \n",
    "calc.columns = ['Title','Title Count']\n",
    "df = df.merge(calc, on=['Title'], how='left')\n",
    "\n",
    "calc = df.groupby(['BookCategory_1'], axis=0).agg({'BookCategory_1':[('op1', 'count')]}).reset_index() \n",
    "calc.columns = ['BookCategory_1','BookCategory_1 Count']\n",
    "df = df.merge(calc, on=['BookCategory_1'], how='left')\n",
    "\n",
    "calc = df.groupby(['Edition_year'], axis=0).agg({'Edition_year':[('op1', 'count')]}).reset_index() \n",
    "calc.columns = ['Edition_year','Edition_year Count']\n",
    "df = df.merge(calc, on=['Edition_year'], how='left')\n",
    "\n",
    "calc = df.groupby(['Edition_month'], axis=0).agg({'Edition_month':[('op1', 'count')]}).reset_index() \n",
    "calc.columns = ['Edition_month','Edition_month Count']\n",
    "df = df.merge(calc, on=['Edition_month'], how='left')\n",
    "\n",
    "calc = df.groupby(['Edition_date'], axis=0).agg({'Edition_date':[('op1', 'count')]}).reset_index() \n",
    "calc.columns = ['Edition_date','Edition_date Count']\n",
    "df = df.merge(calc, on=['Edition_date'], how='left')"
   ]
  },
  {
   "cell_type": "code",
   "execution_count": 24,
   "metadata": {},
   "outputs": [],
   "source": [
    "df['Title_Synopsis'] = df['Title'] + ' ' + df['Synopsis'] + ' ' + df['Author']"
   ]
  },
  {
   "cell_type": "code",
   "execution_count": 25,
   "metadata": {},
   "outputs": [],
   "source": [
    "from nltk.stem.wordnet import WordNetLemmatizer\n",
    "lemma = WordNetLemmatizer()"
   ]
  },
  {
   "cell_type": "code",
   "execution_count": 26,
   "metadata": {},
   "outputs": [
    {
     "name": "stdout",
     "output_type": "stream",
     "text": [
      "Processed 1000 records.\n",
      "Processed 2000 records.\n",
      "Processed 3000 records.\n",
      "Processed 4000 records.\n",
      "Processed 5000 records.\n",
      "Processed 6000 records.\n",
      "Processed 7000 records.\n"
     ]
    }
   ],
   "source": [
    "# function for data cleaning and lemmatization\n",
    "def clean_reviews(review_text, logging=False):\n",
    "    counter = 1\n",
    "    clean_text = []\n",
    "    for texts in review_text:\n",
    "        if counter % 1000 == 0 and logging:\n",
    "            print(\"Processed %d records.\" % (counter))\n",
    "        counter += 1\n",
    "        texts = texts.lower()\n",
    "        texts = re.sub(r'www.[^ ]+', ' ', texts)\n",
    "        texts = re.sub(r'https?://[^ ]+', ' ', texts)\n",
    "        texts = re.sub(r'https://[^ ]+', ' ', texts)\n",
    "        texts = re.sub(r'[^a-z]', ' ', texts)\n",
    "        tokens = nltk.word_tokenize(texts)\n",
    "        tokens = [tok for tok in tokens if len(tok) > 2]\n",
    "        tokens = [lemma.lemmatize(token, pos='n') for token in tokens]\n",
    "        tokens = ' '.join(tokens)\n",
    "        clean_text.append(tokens)\n",
    "    return pd.Series(clean_text)\n",
    "\n",
    "clean_text = clean_reviews(df['Title_Synopsis'], logging=True)\n",
    "df['Title_Synopsis'] = clean_text"
   ]
  },
  {
   "cell_type": "code",
   "execution_count": 27,
   "metadata": {},
   "outputs": [
    {
     "data": {
      "text/plain": [
       "(7794, 15000)"
      ]
     },
     "execution_count": 27,
     "metadata": {},
     "output_type": "execute_result"
    }
   ],
   "source": [
    "from sklearn.feature_extraction.text import TfidfVectorizer\n",
    "tf1 = TfidfVectorizer(ngram_range=(1, 3), min_df=5, token_pattern=r'\\w{3,}', max_features=15000)\n",
    "df_title = tf1.fit_transform(df['Title_Synopsis'])\n",
    "df_title = pd.DataFrame(data=df_title.toarray(), columns=tf1.get_feature_names())\n",
    "df_title.shape"
   ]
  },
  {
   "cell_type": "code",
   "execution_count": 28,
   "metadata": {},
   "outputs": [
    {
     "data": {
      "text/plain": [
       "(7794, 15073)"
      ]
     },
     "execution_count": 28,
     "metadata": {},
     "output_type": "execute_result"
    }
   ],
   "source": [
    "df = pd.concat([df, df_title], axis=1) \n",
    "df.shape"
   ]
  },
  {
   "cell_type": "code",
   "execution_count": 29,
   "metadata": {},
   "outputs": [],
   "source": [
    "for col in ['BookCategory_1', 'BookCategory_2', 'Edition_1', 'Edition_2', 'Genre', 'Title_1']:\n",
    "    df[col] = df[col].astype('category')"
   ]
  },
  {
   "cell_type": "code",
   "execution_count": 30,
   "metadata": {},
   "outputs": [],
   "source": [
    "df.drop(['Synopsis','Title','BookCategory','Edition','Title_Synopsis','Author'], axis=1, inplace=True)"
   ]
  },
  {
   "cell_type": "code",
   "execution_count": 31,
   "metadata": {},
   "outputs": [],
   "source": [
    "train_df = df[df['Price'].isnull()!=True]\n",
    "test_df = df[df['Price'].isnull()==True]\n",
    "test_df.drop(['Price'], axis=1, inplace=True)"
   ]
  },
  {
   "cell_type": "code",
   "execution_count": 32,
   "metadata": {},
   "outputs": [
    {
     "data": {
      "text/plain": [
       "((6234, 15067), (1560, 15066))"
      ]
     },
     "execution_count": 32,
     "metadata": {},
     "output_type": "execute_result"
    }
   ],
   "source": [
    "train_df.shape, test_df.shape"
   ]
  },
  {
   "cell_type": "code",
   "execution_count": 33,
   "metadata": {},
   "outputs": [],
   "source": [
    "train_df['Price'] = np.log1p(train_df['Price'])"
   ]
  },
  {
   "cell_type": "code",
   "execution_count": 34,
   "metadata": {},
   "outputs": [
    {
     "data": {
      "text/html": [
       "<div>\n",
       "<style scoped>\n",
       "    .dataframe tbody tr th:only-of-type {\n",
       "        vertical-align: middle;\n",
       "    }\n",
       "\n",
       "    .dataframe tbody tr th {\n",
       "        vertical-align: top;\n",
       "    }\n",
       "\n",
       "    .dataframe thead th {\n",
       "        text-align: right;\n",
       "    }\n",
       "</style>\n",
       "<table border=\"1\" class=\"dataframe\">\n",
       "  <thead>\n",
       "    <tr style=\"text-align: right;\">\n",
       "      <th></th>\n",
       "      <th>Genre</th>\n",
       "      <th>Price</th>\n",
       "      <th>Reviews</th>\n",
       "      <th>Ratings</th>\n",
       "      <th>Title_1</th>\n",
       "      <th>BookCategory_1</th>\n",
       "      <th>BookCategory_2</th>\n",
       "      <th>Edition_1</th>\n",
       "      <th>Edition_2</th>\n",
       "      <th>Edition_year</th>\n",
       "      <th>...</th>\n",
       "      <th>youtube</th>\n",
       "      <th>yuvraj</th>\n",
       "      <th>zen</th>\n",
       "      <th>zen pencil</th>\n",
       "      <th>zero</th>\n",
       "      <th>zlatan</th>\n",
       "      <th>zoe</th>\n",
       "      <th>zombie</th>\n",
       "      <th>zone</th>\n",
       "      <th>zoo</th>\n",
       "    </tr>\n",
       "  </thead>\n",
       "  <tbody>\n",
       "    <tr>\n",
       "      <td>0</td>\n",
       "      <td>Action &amp; Adventure</td>\n",
       "      <td>5.398163</td>\n",
       "      <td>8.0</td>\n",
       "      <td>4.0</td>\n",
       "      <td>The Hunters 3</td>\n",
       "      <td>Action &amp; Adventure</td>\n",
       "      <td>missingBookCategory</td>\n",
       "      <td>Paperback</td>\n",
       "      <td>10 Mar 2016</td>\n",
       "      <td>2016.0</td>\n",
       "      <td>...</td>\n",
       "      <td>0.0</td>\n",
       "      <td>0.0</td>\n",
       "      <td>0.0</td>\n",
       "      <td>0.0</td>\n",
       "      <td>0.0</td>\n",
       "      <td>0.0</td>\n",
       "      <td>0.0</td>\n",
       "      <td>0.0</td>\n",
       "      <td>0.0</td>\n",
       "      <td>0.0</td>\n",
       "    </tr>\n",
       "    <tr>\n",
       "      <td>1</td>\n",
       "      <td>Cinema &amp; Broadcast</td>\n",
       "      <td>5.317777</td>\n",
       "      <td>14.0</td>\n",
       "      <td>3.9</td>\n",
       "      <td>missingTitle</td>\n",
       "      <td>Biographies</td>\n",
       "      <td>Diaries &amp; True Accounts</td>\n",
       "      <td>Paperback</td>\n",
       "      <td>7 Nov 2012</td>\n",
       "      <td>2012.0</td>\n",
       "      <td>...</td>\n",
       "      <td>0.0</td>\n",
       "      <td>0.0</td>\n",
       "      <td>0.0</td>\n",
       "      <td>0.0</td>\n",
       "      <td>0.0</td>\n",
       "      <td>0.0</td>\n",
       "      <td>0.0</td>\n",
       "      <td>0.0</td>\n",
       "      <td>0.0</td>\n",
       "      <td>0.0</td>\n",
       "    </tr>\n",
       "  </tbody>\n",
       "</table>\n",
       "<p>2 rows × 15067 columns</p>\n",
       "</div>"
      ],
      "text/plain": [
       "                 Genre     Price  Reviews  Ratings        Title_1  \\\n",
       "0  Action & Adventure   5.398163      8.0      4.0  The Hunters 3   \n",
       "1  Cinema & Broadcast   5.317777     14.0      3.9   missingTitle   \n",
       "\n",
       "       BookCategory_1            BookCategory_2  Edition_1    Edition_2  \\\n",
       "0  Action & Adventure       missingBookCategory  Paperback  10 Mar 2016   \n",
       "1         Biographies   Diaries & True Accounts  Paperback   7 Nov 2012   \n",
       "\n",
       "   Edition_year  ...  youtube  yuvraj  zen  zen pencil  zero  zlatan  zoe  \\\n",
       "0        2016.0  ...      0.0     0.0  0.0         0.0   0.0     0.0  0.0   \n",
       "1        2012.0  ...      0.0     0.0  0.0         0.0   0.0     0.0  0.0   \n",
       "\n",
       "   zombie  zone  zoo  \n",
       "0     0.0   0.0  0.0  \n",
       "1     0.0   0.0  0.0  \n",
       "\n",
       "[2 rows x 15067 columns]"
      ]
     },
     "execution_count": 34,
     "metadata": {},
     "output_type": "execute_result"
    }
   ],
   "source": [
    "train_df.head(2)"
   ]
  },
  {
   "cell_type": "markdown",
   "metadata": {},
   "source": [
    "# Train test split"
   ]
  },
  {
   "cell_type": "code",
   "execution_count": 35,
   "metadata": {},
   "outputs": [],
   "source": [
    "X = train_df.drop(labels=['Price'], axis=1)\n",
    "y = train_df['Price'].values\n",
    "\n",
    "from sklearn.model_selection import train_test_split\n",
    "X_train, X_cv, y_train, y_cv = train_test_split(X, y, test_size=0.25, random_state=1)"
   ]
  },
  {
   "cell_type": "code",
   "execution_count": 36,
   "metadata": {},
   "outputs": [
    {
     "data": {
      "text/plain": [
       "((4675, 15066), (4675,), (1559, 15066), (1559,))"
      ]
     },
     "execution_count": 36,
     "metadata": {},
     "output_type": "execute_result"
    }
   ],
   "source": [
    "X_train.shape, y_train.shape, X_cv.shape, y_cv.shape"
   ]
  },
  {
   "cell_type": "markdown",
   "metadata": {},
   "source": [
    "# Build the model"
   ]
  },
  {
   "cell_type": "code",
   "execution_count": 37,
   "metadata": {},
   "outputs": [],
   "source": [
    "from math import sqrt \n",
    "from sklearn.metrics import mean_squared_log_error"
   ]
  },
  {
   "cell_type": "markdown",
   "metadata": {},
   "source": [
    "## Light GBM"
   ]
  },
  {
   "cell_type": "code",
   "execution_count": 38,
   "metadata": {},
   "outputs": [
    {
     "name": "stdout",
     "output_type": "stream",
     "text": [
      "Training until validation scores don't improve for 200 rounds.\n",
      "[100]\tvalid_0's rmse: 0.592264\n",
      "[200]\tvalid_0's rmse: 0.540034\n",
      "[300]\tvalid_0's rmse: 0.516514\n",
      "[400]\tvalid_0's rmse: 0.505113\n",
      "[500]\tvalid_0's rmse: 0.4993\n",
      "[600]\tvalid_0's rmse: 0.495693\n",
      "[700]\tvalid_0's rmse: 0.493777\n",
      "[800]\tvalid_0's rmse: 0.492454\n",
      "[900]\tvalid_0's rmse: 0.491574\n",
      "[1000]\tvalid_0's rmse: 0.49094\n",
      "[1100]\tvalid_0's rmse: 0.490537\n",
      "[1200]\tvalid_0's rmse: 0.490253\n",
      "[1300]\tvalid_0's rmse: 0.489982\n",
      "[1400]\tvalid_0's rmse: 0.489906\n",
      "[1500]\tvalid_0's rmse: 0.489991\n",
      "Early stopping, best iteration is:\n",
      "[1395]\tvalid_0's rmse: 0.489883\n",
      "RMSLE: 0.48988263234329854\n"
     ]
    }
   ],
   "source": [
    "import lightgbm as lgb\n",
    "train_data = lgb.Dataset(X_train, label=y_train)\n",
    "test_data = lgb.Dataset(X_cv, label=y_cv)\n",
    "\n",
    "param = {'objective': 'regression',\n",
    "         'boosting': 'gbdt',  \n",
    "         'metric': 'l2_root',\n",
    "         'learning_rate': 0.01, \n",
    "         'num_iterations': 3500,\n",
    "         'num_leaves': 80,\n",
    "         'max_depth': -1,\n",
    "         'min_data_in_leaf': 11,\n",
    "         'bagging_fraction': 0.80,\n",
    "         'bagging_freq': 1,\n",
    "         'bagging_seed': 3,\n",
    "         'feature_fraction': 0.80,\n",
    "         'feature_fraction_seed': 2,\n",
    "         'early_stopping_round': 200,\n",
    "         'max_bin': 250\n",
    "         }\n",
    "\n",
    "lgbm = lgb.train(params=param, verbose_eval=100, train_set=train_data, valid_sets=[test_data])\n",
    "\n",
    "y_pred_lgbm = lgbm.predict(X_cv)\n",
    "print('RMSLE:', sqrt(mean_squared_log_error(np.expm1(y_cv), np.expm1(y_pred_lgbm))))"
   ]
  },
  {
   "cell_type": "code",
   "execution_count": 39,
   "metadata": {},
   "outputs": [
    {
     "data": {
      "image/png": "[encoded data removed]",
      "text/plain": [
       "<Figure size 864x720 with 1 Axes>"
      ]
     },
     "metadata": {
      "needs_background": "light"
     },
     "output_type": "display_data"
    }
   ],
   "source": [
    "feature_imp = pd.DataFrame(sorted(zip(lgbm.feature_importance(), X.columns), reverse=True)[:50], \n",
    "                           columns=['Value','Feature'])\n",
    "plt.figure(figsize=(12, 10))\n",
    "sns.barplot(x=\"Value\", y=\"Feature\", data=feature_imp.sort_values(by=\"Value\", ascending=False))\n",
    "plt.title('LightGBM Features')\n",
    "plt.tight_layout()\n",
    "plt.show()"
   ]
  },
  {
   "cell_type": "markdown",
   "metadata": {},
   "source": [
    "# Predict on test set"
   ]
  },
  {
   "cell_type": "code",
   "execution_count": 40,
   "metadata": {},
   "outputs": [],
   "source": [
    "Xtest = test_df"
   ]
  },
  {
   "cell_type": "markdown",
   "metadata": {},
   "source": [
    "## Light GBM"
   ]
  },
  {
   "cell_type": "code",
   "execution_count": 41,
   "metadata": {},
   "outputs": [
    {
     "name": "stdout",
     "output_type": "stream",
     "text": [
      "RMSLE LGBM:  0.506805159891807\n",
      "RMSLE LGBM:  0.5199233909005462\n",
      "RMSLE LGBM:  0.4659871672717169\n",
      "RMSLE LGBM:  0.4911263436689297\n",
      "RMSLE LGBM:  0.46724096565585754\n",
      "RMSLE LGBM:  0.5191538391630042\n",
      "RMSLE LGBM:  0.4938260225649079\n",
      "RMSLE LGBM:  0.44879425345451657\n",
      "RMSLE LGBM:  0.48124013735215265\n",
      "RMSLE LGBM:  0.4952685167881142\n",
      "RMSLE LGBM:  0.4608456495305424\n",
      "RMSLE LGBM:  0.47777782618372666\n",
      "RMSLE LGBM:  0.45426087184453623\n",
      "RMSLE LGBM:  0.4435527453055858\n",
      "RMSLE LGBM:  0.5121057492831896\n"
     ]
    }
   ],
   "source": [
    "from sklearn.model_selection import KFold\n",
    "from lightgbm import LGBMRegressor\n",
    "\n",
    "errlgb = []\n",
    "y_pred_totlgb = []\n",
    "\n",
    "fold = KFold(n_splits=15, shuffle=True, random_state=42)\n",
    "\n",
    "for train_index, test_index in fold.split(X):\n",
    "    X_train, X_test = X.loc[train_index], X.loc[test_index]\n",
    "    y_train, y_test = y[train_index], y[test_index]\n",
    "\n",
    "    lgbm = LGBMRegressor(**param)\n",
    "    lgbm.fit(X_train, y_train, eval_set=[(X_test, y_test)], verbose=0, early_stopping_rounds=200)\n",
    "\n",
    "    y_pred_lgbm = lgbm.predict(X_test)\n",
    "    print(\"RMSLE LGBM: \", sqrt(mean_squared_log_error(np.exp(y_test), np.exp(y_pred_lgbm))))\n",
    "\n",
    "    errlgb.append(sqrt(mean_squared_log_error(np.exp(y_test), np.exp(y_pred_lgbm))))\n",
    "    p = lgbm.predict(Xtest)\n",
    "    y_pred_totlgb.append(p)"
   ]
  },
  {
   "cell_type": "code",
   "execution_count": 42,
   "metadata": {},
   "outputs": [
    {
     "data": {
      "text/plain": [
       "0.4825272425906088"
      ]
     },
     "execution_count": 42,
     "metadata": {},
     "output_type": "execute_result"
    }
   ],
   "source": [
    "np.mean(errlgb,0)"
   ]
  },
  {
   "cell_type": "code",
   "execution_count": 43,
   "metadata": {},
   "outputs": [
    {
     "data": {
      "text/plain": [
       "array([ 492.65620303, 1086.77556652,  348.27831085, ...,  311.96158651,\n",
       "        431.38646782, 1083.09912878])"
      ]
     },
     "execution_count": 43,
     "metadata": {},
     "output_type": "execute_result"
    }
   ],
   "source": [
    "lgbm_final = np.expm1(np.mean(y_pred_totlgb,0))\n",
    "lgbm_final"
   ]
  },
  {
   "cell_type": "markdown",
   "metadata": {},
   "source": [
    "# Submission"
   ]
  },
  {
   "cell_type": "code",
   "execution_count": 44,
   "metadata": {},
   "outputs": [],
   "source": [
    "df_sub = pd.DataFrame(data=lgbm_final, columns=['Price'])\n",
    "writer = pd.ExcelWriter('Output.xlsx', engine='xlsxwriter')\n",
    "df_sub.to_excel(writer,sheet_name='Sheet1', index=False)\n",
    "writer.save()"
   ]
  }
 ],
 "metadata": {
  "kernelspec": {
   "display_name": "Python 3",
   "language": "python",
   "name": "python3"
  },
  "language_info": {
   "codemirror_mode": {
    "name": "ipython",
    "version": 3
   },
   "file_extension": ".py",
   "mimetype": "text/x-python",
   "name": "python",
   "nbconvert_exporter": "python",
   "pygments_lexer": "ipython3",
   "version": "3.6.9"
  },
  "toc": {
   "base_numbering": 1,
   "nav_menu": {},
   "number_sections": true,
   "sideBar": true,
   "skip_h1_title": false,
   "title_cell": "Table of Contents",
   "title_sidebar": "Contents",
   "toc_cell": false,
   "toc_position": {
    "height": "calc(100% - 180px)",
    "left": "10px",
    "top": "150px",
    "width": "307.2px"
   },
   "toc_section_display": true,
   "toc_window_display": true
  }
 },
 "nbformat": 4,
 "nbformat_minor": 1
}
